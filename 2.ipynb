{
 "cells": [
  {
   "cell_type": "markdown",
   "metadata": {},
   "source": [
    "Def: a *random variable* $X$ is $X: \\Omega \\to \\mathbb{R}$\n",
    "\n",
    "from this defintion: $\\{ \\omega : X(\\omega) \\leq x \\} \\equiv (X \\leq x)$ is an event for any $x \\in \\mathbb{R}$\n",
    "\n",
    "Def: The *CDF* of $X$ is $F_X(x)=P(X\\leq x), \\forall x \\in \\mathbb{R}$\n",
    "\n",
    "**Thm**: The CDF of any r.v. $X$ satisfies:\n",
    "\n",
    "1. $\\lim_{x \\to -\\infty} F(x) = 0$ and $\\lim_{x \\to \\infty} F(x) = 1$\n",
    "2. $\\lim_{h \\to 0+} F(x+h) = F(x), \\forall x \\in \\mathbb{R}$ (i.e. right continuous)\n",
    "3. $\\forall x_1 < x_2$, we have $F(x_1) \\leq F(x_2)$ (i.e. non-decreasing)\n",
    "\n",
    "Remark: surprisingly, any function $F(x)$ satisfying 1, 2, 3 is the CDF of some r.v. $X$\n",
    "\n",
    "---"
   ]
  },
  {
   "cell_type": "markdown",
   "metadata": {},
   "source": [
    "There are two commonly seen types of r.v.\n",
    "\n",
    "#### Discrete and continuous\n",
    "\n",
    "If $X$ is a discrete r.v., then $X$ takes on a finite # of, or countably infinitely many, possible values.\n",
    "\n",
    "The CDF of a discrete r.v. $X$ is $$F(x) = P(X \\leq x) = \\sum{(X = x_i)}$$\n",
    "\n",
    "The *PDF* of a discrete r.v. is defined to be $$f_X(x_i) = P(X=x_i) = F(x_i) - F(x_{i-1})$$\n",
    "\n",
    "If $X$ is a continuous r.v. then $F(x) = \\int_{-\\infty}^{\\infty} f(u)du, \\forall x \\in \\mathbb{R}$ where $f(x)$ is called the PDF of $X$, satisfying:\n",
    "\n",
    "1. $f(x) \\geq 0, \\forall x \\in \\mathbb{R}$\n",
    "2. $\\int_{-\\infty}^{\\infty} f(u)du = 1$\n",
    "\n",
    "The set $\\{x: f(x) > 0 \\}$ is called the *support* of $X$ or $f(x)$.\n",
    "\n",
    "Remark: a r.v. can be of mixed type\n",
    "\n",
    "---"
   ]
  },
  {
   "cell_type": "markdown",
   "metadata": {},
   "source": [
    "### Expectation\n",
    "\n",
    "If $X$ is discrete and $\\sum{|x|f(x) < \\infty}$, then $\\mu=E(x)=\\sum{xf(x)}$\n",
    "\n",
    "If $X$ is continuous and $\\int_{-\\infty}^{\\infty} |x|f(x)dx < \\infty$, then $\\mu = \\int_{-\\infty}^{\\infty} xf(x)dx$\n",
    "\n",
    "variance: $\\sigma^2 = Var(x) = E[(X-E(X))^2] = E[(x-\\mu)^2]$\n",
    "\n",
    "#### Moments\n",
    "\n",
    "$E(X^k)$: k-th moment about the origin if $E(|X|^k) < \\infty$ (common)\n",
    "\n",
    "$E((X-\\mu)^k)$: k-th moment about the mean if $E(|X-\\mu|^k) < \\infty$\n",
    "\n",
    "$Var(X) = E(X^2) - E(X)^2$\n",
    "\n",
    "---"
   ]
  },
  {
   "cell_type": "markdown",
   "metadata": {},
   "source": [
    "**Thm**: *Law of the unconscious statistician* or *LOTUS*\n",
    "\n",
    "Let $X$ be a r.v. with pmf or pdf $f(x)$. Let $g(x)$ be a real-valued function. If $E[g(X)]$ exists, then\n",
    "$E[g(X)] = \\sum{g(x)f(x)}$ if $X$ is discrete, or $E[g(x)] = \\int_{-\\infty}^{\\infty} g(X)f(x)dx$ if $X$ is continuous.\n",
    "\n",
    "Some important results:\n",
    "\n",
    "1. $E[ag(X)+bh(X)] = aE[g(X)] + bE[h(X)]$ (linearity of expectation)\n",
    "2. $Var(X) = E(X^2)-\\mu^2$ (definition of variance)\n",
    "3. $Var(aX+b) = a^2Var(X)$ (quadratic scaling of variance)\n",
    "\n",
    "---"
   ]
  },
  {
   "cell_type": "markdown",
   "metadata": {},
   "source": [
    "**Thm**: *Markov's Inequality*\n",
    "\n",
    "If $X$ is a r.v. Assuming all relevant expectations exist, then $P(|X| \\geq c) \\leq \\frac{E|X|^r}{c^r}, \\forall r > 0$ and $c > 0$\n",
    "\n",
    "To prove this, we define the *indicator function* of a event. (An indicator function of an event $A$ is $I(A) = \\text{int(whether A occurs)}$)\n",
    "\n",
    "$E(I(A))=1 \\times P(A) + 0 \\times P(A^c) = P(A)$\n",
    "\n",
    "Proof of Markov's Inequality: Since $(|X| \\geq c) \\implies (|X|^r \\geq c^r)$ , we have:\n",
    "\n",
    "$I(|X| \\geq c) = I(|X|^r \\geq c^r) \\leq \\frac{|X|^r}{c^r} I(|X|^r \\geq c^r) \\leq \\frac{|X|^r}{c^r}$\n",
    "\n",
    "So $P(|X| \\geq c) = E(I(|X| \\geq c)) \\leq \\frac{E|X|^r}{c^r}$\n",
    "\n",
    "Examples:\n",
    "\n",
    "Take $Y = X-\\mu$ $c = 2\\sigma$ and $r=2$, we have: $P(|X-\\mu| \\geq 2\\sigma) \\leq E(|X-\\mu|^2)/(2\\sigma)^2=\\sigma^2/(4\\sigma^2) = 1/4$\n",
    "\n",
    "So $P(|X-\\mu| \\leq 2\\sigma) \\geq 0.75$\n",
    "\n",
    "---"
   ]
  },
  {
   "cell_type": "markdown",
   "metadata": {},
   "source": [
    "**Thm**: A *degenerate* distribution\n",
    "\n",
    "If $X$ is a r.v. with $\\sigma^2=0$, then $P(X=\\mu)=1$.\n",
    "\n",
    "Proof: First, note that $(X \\neq \\mu) = \\bigcup_{i=1}^{\\infty}(|X-\\mu| \\geq 1/i)$, aka. $A = \\bigcup B_i$\n",
    "\n",
    "We show these sets are equal. $\\forall \\omega \\in A, |X(\\omega) - \\mu | \\equiv |a| > 0$, then there exists $i_0$ s.t. $|a| \\geq 1/i_0$\n",
    "\n",
    "That is, $\\omega \\in B_{i_0} \\implies A \\subseteq \\bigcup B_i$\n",
    "\n",
    "$\\forall \\omega \\in \\bigcup B_i$, there exists $i_0$ s.t. $\\omega \\in B_{i_0} \\implies |X(\\omega) - \\mu | \\geq 1/i_0 \\implies |X(\\omega) - \\mu| \\neq 0 \\implies X(\\omega) \\neq \\mu \\implies \\omega \\in A$"
   ]
  }
 ],
 "metadata": {
  "kernelspec": {
   "display_name": "Python 2",
   "language": "python",
   "name": "python2"
  },
  "language_info": {
   "codemirror_mode": {
    "name": "ipython",
    "version": 2
   },
   "file_extension": ".py",
   "mimetype": "text/x-python",
   "name": "python",
   "nbconvert_exporter": "python",
   "pygments_lexer": "ipython2",
   "version": "2.7.11"
  }
 },
 "nbformat": 4,
 "nbformat_minor": 0
}
