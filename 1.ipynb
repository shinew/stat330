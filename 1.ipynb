{
 "cells": [
  {
   "cell_type": "markdown",
   "metadata": {},
   "source": [
    "Def: A *sample space* $\\Omega$ is a set consists of all possible outcomes ($\\omega$) from a random experiment.\n",
    "\n",
    "Def: A subset $A$ of $\\Omega$ ($A \\subseteq \\Omega$) is an *event*.\n",
    "\n",
    "e.g. $\\Omega = \\{1, 2, 3\\}$, $A = \\{1, 2\\}$\n",
    "\n",
    "Event $A$ occurs if the outcome $\\omega \\subseteq A$."
   ]
  },
  {
   "cell_type": "markdown",
   "metadata": {},
   "source": [
    "One goal of probability theory is to study how likely an event occurs or the probability of an event.\n",
    "\n",
    "For a random experiment with sample space $\\Omega$, a *probability distribution* is a real-valued function defined on the collection of all events that satisfy:\n",
    "\n",
    "1) $P(A) \\geq 0$ if event $A$\n",
    "\n",
    "2) $P(\\Omega) = 1$\n",
    "\n",
    "3) $P(\\cup A_i) = \\sum P(A_i)$ if $A_i$ are mutally exclusive events."
   ]
  },
  {
   "cell_type": "markdown",
   "metadata": {},
   "source": [
    "**Thm**: A probability distribution has the following properties:\n",
    "\n",
    "1) P($\\emptyset$) = 0\n",
    "\n",
    "2) $P(\\cup A_i) = \\sum P(A_i)$ if $A_i$ are mutally exclusive\n",
    "\n",
    "3) if $A \\subset B$ then $P(A^c \\cap B) = P(B) - P(A)$\n",
    "\n",
    "4) if $A \\subseteq B$ then $P(A) \\subseteq P(B)$\n",
    "\n",
    "5) $P(A) = 1 - P(A^c)$\n",
    "\n",
    "6) $P(A) <= 1$ for any event A\n",
    "\n",
    "7) $P(A \\cup B) = P(A) + P(B) - P(A \\cap B)$ for any events $A$ and $B$"
   ]
  },
  {
   "cell_type": "markdown",
   "metadata": {},
   "source": [
    "**Thm**: *Boule's Inequality*\n",
    "\n",
    "If $A_i$ is a sequence of (not necessarily mutual) events, then $P(\\cup A_i) \\leq \\sum P(A_i)$\n",
    "\n",
    "Proof: Let $B_1 = A_1$, $B_2 = A_2 \\cap A_1^c$, $B_3 = A_3 \\cap (A_1 \\cup A_2)^c$.... Then we have $\\cup A_i = \\cup B_i$, and $B_i$ are mutually exclusive. Because $B_i \\subseteq A_i$, $P(B_i) \\leq P(A_i)$, and thus $P(\\cup A_i) = P(\\cup B_i) = \\sum P(B_i) \\leq \\sum P(A_i)$."
   ]
  },
  {
   "cell_type": "markdown",
   "metadata": {},
   "source": [
    "Def: The *conditional probability* of an event $A$ given event $B$ ($P(B) > 0$) is $P(A|B) = \\frac{P(A \\cap B)}{P(B)}$.\n",
    "\n",
    "Proof (of probability distribution):\n",
    "\n",
    "1) $P(A|B) \\geq 0$\n",
    "\n",
    "2) $P(\\Omega \\cap B) / P(B) = 1$\n",
    "\n",
    "3) $P(\\cup A_i | B) = P ((\\cup A_i) \\cap B) / P(B) = P (\\cup(A_i \\cap B)) / P(B) = \\sum P(A_i \\cap B) / P(B) = \\sum P(A_i | B)$"
   ]
  },
  {
   "cell_type": "markdown",
   "metadata": {},
   "source": [
    "**Thm**: *Multiplication Rule*\n",
    "\n",
    "If $A_i$ are events and $P(\\cap A_i) > 0$ then $P(\\cap A_i) = P(A_1) P(A_2 | A_1) P(A_3 | A_1 \\cap A_2) ... P(A_n | A_1 \\cap A_2 ... \\cap A_{n-1})$"
   ]
  },
  {
   "cell_type": "code",
   "execution_count": null,
   "metadata": {
    "collapsed": true
   },
   "outputs": [],
   "source": []
  }
 ],
 "metadata": {
  "kernelspec": {
   "display_name": "Python 2",
   "language": "python",
   "name": "python2"
  },
  "language_info": {
   "codemirror_mode": {
    "name": "ipython",
    "version": 2
   },
   "file_extension": ".py",
   "mimetype": "text/x-python",
   "name": "python",
   "nbconvert_exporter": "python",
   "pygments_lexer": "ipython2",
   "version": "2.7.11"
  }
 },
 "nbformat": 4,
 "nbformat_minor": 0
}
